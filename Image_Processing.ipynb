{
 "cells": [
  {
   "cell_type": "code",
   "execution_count": 4,
   "id": "cde7a58f-1a07-4d81-9517-56fd8efb2eed",
   "metadata": {},
   "outputs": [
    {
     "ename": "ModuleNotFoundError",
     "evalue": "No module named 'cv2'",
     "output_type": "error",
     "traceback": [
      "\u001b[1;31m---------------------------------------------------------------------------\u001b[0m",
      "\u001b[1;31mModuleNotFoundError\u001b[0m                       Traceback (most recent call last)",
      "Cell \u001b[1;32mIn[4], line 1\u001b[0m\n\u001b[1;32m----> 1\u001b[0m \u001b[38;5;28;01mimport\u001b[39;00m \u001b[38;5;21;01mcv2\u001b[39;00m\n\u001b[0;32m      3\u001b[0m cap \u001b[38;5;241m=\u001b[39m cv2\u001b[38;5;241m.\u001b[39mVideoCapture(\u001b[38;5;241m0\u001b[39m)\n\u001b[0;32m      4\u001b[0m \u001b[38;5;66;03m# Object detection from Stable camera\u001b[39;00m\n",
      "\u001b[1;31mModuleNotFoundError\u001b[0m: No module named 'cv2'"
     ]
    }
   ],
   "source": [
    "import cv2\n",
    "\n",
    "cap = cv2.VideoCapture(0)\n",
    "# Object detection from Stable camera\n",
    "object_detector = cv2.createBackgroundSubtractorMOG2(history=100, varThreshold=40)\n",
    "hlist = []\n",
    "sayi = 0 \n",
    "while True:\n",
    "    ret, frame = cap.read()\n",
    "    height, width, _ = frame.shape\n",
    "    # Extract Region of interest\n",
    "    model = cv2.cvtColor(frame, cv2.COLOR_BGR2HSV)\n",
    "    roi=frame[10:380,30:280]\n",
    "    # 1. Object Detection\n",
    "    mask = object_detector.apply(roi)\n",
    "    _, mask = cv2.threshold(mask, 254, 255, cv2.THRESH_BINARY)\n",
    "    contours, _ = cv2.findContours(mask, cv2.RETR_TREE, cv2.CHAIN_APPROX_SIMPLE)\n",
    "    \n",
    "    for cnt in contours:\n",
    "        # Calculate area and remove small elements\n",
    "        area = cv2.contourArea(cnt)\n",
    "               \n",
    "        if area > 1500:           \n",
    "            x, y, w, h = cv2.boundingRect(cnt)\n",
    "            \n",
    "            if y==0: \n",
    "                hlist.append(h)\n",
    "                a = hlist[0]\n",
    "                if h==a:\n",
    "                    cv2.rectangle(roi, (x,y),(x+w,y+h), (255,255,0),3)\n",
    "                    sayi += 1\n",
    "                \n",
    "                    hsv_frame = cv2.cvtColor(roi, cv2.COLOR_BGR2HSV)\n",
    "                    hcomp0 = hsv_frame[y:y+h,x:x+w, 0]\n",
    "                    mean = int(hcomp0.mean())\n",
    "                    hue_value = mean\n",
    "\n",
    "                    color = \"Undefined\"\n",
    "                    if hue_value <30:\n",
    "                        color = \"RED\"\n",
    "                        print(f\"{sayi}. top= RED\")\n",
    "                    elif hue_value < 60:\n",
    "                        color = \"GREEN\"\n",
    "                        print(f\"{sayi}. top= GREEN\")\n",
    "                    \n",
    "                    cv2.putText(frame, color, (x - 50, 100), 0, 3, (mean), 5)\n",
    "            else:\n",
    "                hlist = []\n",
    "                \n",
    "    cv2.imshow(\"roi\", roi)\n",
    "    cv2.imshow(\"Frame\", frame)\n",
    "    \n",
    "    key = cv2.waitKey(30)\n",
    "    if key == 27:\n",
    "        break\n",
    "\n",
    "cap.release()\n",
    "cv2.destroyAllWindows()"
   ]
  },
  {
   "cell_type": "code",
   "execution_count": null,
   "id": "7596de88-f387-4f9c-94af-396185884451",
   "metadata": {},
   "outputs": [],
   "source": []
  }
 ],
 "metadata": {
  "kernelspec": {
   "display_name": "Python 3 (ipykernel)",
   "language": "python",
   "name": "python3"
  },
  "language_info": {
   "codemirror_mode": {
    "name": "ipython",
    "version": 3
   },
   "file_extension": ".py",
   "mimetype": "text/x-python",
   "name": "python",
   "nbconvert_exporter": "python",
   "pygments_lexer": "ipython3",
   "version": "3.12.3"
  }
 },
 "nbformat": 4,
 "nbformat_minor": 5
}
